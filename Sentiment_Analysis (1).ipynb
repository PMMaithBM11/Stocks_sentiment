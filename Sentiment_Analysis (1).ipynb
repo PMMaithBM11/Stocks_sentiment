{
  "nbformat": 4,
  "nbformat_minor": 0,
  "metadata": {
    "colab": {
      "provenance": []
    },
    "kernelspec": {
      "name": "python3",
      "display_name": "Python 3"
    },
    "language_info": {
      "name": "python"
    }
  },
  "cells": [
    {
      "cell_type": "code",
      "source": [
        "import numpy as np\n",
        "from textblob import TextBlob\n",
        "from tensorflow.keras.preprocessing.text import Tokenizer\n",
        "from tensorflow.keras.preprocessing.sequence import pad_sequences\n",
        "from tensorflow.keras.models import Sequential\n",
        "from tensorflow.keras.layers import Embedding, LSTM, Dense\n",
        "import tweepy\n",
        "\n",
        "\n",
        "texts = [\n",
        "      \"The stock market experienced a bullish trend today as major tech companies reported strong earnings.\",\n",
        "    \"Investors are closely watching the Federal Reserve's decision, which could impact the stock market's performance.\",\n",
        "    \"The stock market showed resilience amidst global economic uncertainties, with healthcare stocks leading the gains.\",\n",
        "    \"A sudden surge in crude oil prices has raised concerns about inflation, causing volatility in the stock market.\",\n",
        "    \"Traders are monitoring the ongoing trade negotiations, as any breakthrough could have a significant impact on stock prices.\",\n",
        "    \"The stock market reacted positively to the announcement of a new stimulus package, driving indexes to record highs.\",\n",
        "    \"Uncertainty around geopolitical tensions has led to a cautious sentiment in the stock market, resulting in lower trading volumes.\",\n",
        "    \"Earnings season is underway, with analysts predicting mixed results that could influence market sentiment.\"\n",
        "]\n",
        "\n",
        "# Perform sentiment analysis using TextBlob as a scorer\n",
        "def analyze_sentiment(text):\n",
        "    analysis = TextBlob(text)\n",
        "    polarity = analysis.sentiment.polarity\n",
        "    return polarity\n",
        "\n",
        "# Collect labeled tweets with continuous sentiment scores\n",
        "def get_labeled_tweets(query, count=1000):\n",
        "    tweets = []\n",
        "\n",
        "\n",
        "# Tokenize and pad the text data\n",
        "max_words = 10000  # Number of unique words to consider\n",
        "max_len = 50  # Maximum length of a sequence\n",
        "tokenizer = Tokenizer(num_words=max_words)\n",
        "tokenizer.fit_on_texts(texts)\n",
        "\n",
        "# Build the LSTM model for regression\n",
        "model = Sequential()\n",
        "model.add(Embedding(max_words, 128, input_length=max_len))\n",
        "model.add(LSTM(64, dropout=0.2, recurrent_dropout=0.2))\n",
        "model.add(Dense(1, activation='linear'))\n",
        "\n",
        "model.compile(loss='mean_squared_error', optimizer='adam', metrics=['mae'])\n",
        "model.summary()\n",
        "\n",
        "# Load the trained model or train it using your dataset\n",
        "# (Replace with your own model loading/training logic)\n",
        "\n",
        "# Take input from the user\n",
        "input_text = input(\"Enter a text for sentiment analysis: \")\n",
        "input_sequence = tokenizer.texts_to_sequences([input_text])\n",
        "input_padded = pad_sequences(input_sequence, maxlen=max_len)\n",
        "\n",
        "# Predict sentiment score\n",
        "predicted_score = model.predict(input_padded)[0][0]\n",
        "\n",
        "print(f\"Predicted Sentiment Score: {predicted_score:.4f}\")\n"
      ],
      "metadata": {
        "colab": {
          "base_uri": "https://localhost:8080/"
        },
        "id": "FV26cHcR7EAg",
        "outputId": "89d91515-55b3-4901-972d-a0429746aed1"
      },
      "execution_count": 7,
      "outputs": [
        {
          "output_type": "stream",
          "name": "stdout",
          "text": [
            "Model: \"sequential_6\"\n",
            "_________________________________________________________________\n",
            " Layer (type)                Output Shape              Param #   \n",
            "=================================================================\n",
            " embedding_6 (Embedding)     (None, 50, 128)           1280000   \n",
            "                                                                 \n",
            " lstm_6 (LSTM)               (None, 64)                49408     \n",
            "                                                                 \n",
            " dense_6 (Dense)             (None, 1)                 65        \n",
            "                                                                 \n",
            "=================================================================\n",
            "Total params: 1,329,473\n",
            "Trainable params: 1,329,473\n",
            "Non-trainable params: 0\n",
            "_________________________________________________________________\n",
            "Enter a text for sentiment analysis: The stock market rallied today as positive economic data and strong corporate earnings boosted investor confidence.\n",
            "1/1 [==============================] - 0s 165ms/step\n",
            "Predicted Sentiment Score: 0.0138\n"
          ]
        }
      ]
    }
  ]
}