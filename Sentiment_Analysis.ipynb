{
  "nbformat": 4,
  "nbformat_minor": 0,
  "metadata": {
    "colab": {
      "provenance": []
    },
    "kernelspec": {
      "name": "python3",
      "display_name": "Python 3"
    },
    "language_info": {
      "name": "python"
    }
  },
  "cells": [
    {
      "cell_type": "code",
      "execution_count": null,
      "metadata": {
        "id": "V6PAOwlkZO9l"
      },
      "outputs": [],
      "source": [
        "import pandas as pd\n",
        "from textblob import TextBlob\n",
        "\n",
        "\n",
        "def get_sentiment(text):\n",
        "    '''\n",
        "    Returns the sentiment of the given text as a value between -1 and 1.\n",
        "    '''\n",
        "    blob = TextBlob(text)\n",
        "    return blob.sentiment.polarity\n",
        "\n",
        "\n",
        "# Example tweets related to a stock index\n",
        "tweets = [\n",
        "    \"The stock market is doing well today.\",\n",
        "    \"Investors are feeling optimistic about the economy.\",\n",
        "    \"There is a lot of uncertainty in the market right now.\",\n",
        "    \"The company's earnings report was disappointing.\",\n",
        "    \"The Federal Reserve just announced an interest rate hike.\",\n",
        "    \"Many experts are predicting a market crash soon.\",\n",
        "    \"The stock market is showing signs of volatility.\",\n",
        "    \"The tech sector is seeing strong growth this quarter.\"\n",
        "]\n",
        "\n",
        "\n",
        "# Create a DataFrame to store the sentiment scores for each tweet\n",
        "sentiment_df = pd.DataFrame({\n",
        "    'Tweet': tweets,\n",
        "    'Sentiment Score': [get_sentiment(tweet) for tweet in tweets]\n",
        "})\n",
        "\n",
        "\n",
        "print(sentiment_df)\n",
        "\n",
        "\n",
        "\n",
        "\n",
        "Output:\n",
        "\n",
        "                                              Tweet  Sentiment Score\n",
        "0              The stock market is doing well today.         0.000000\n",
        "1  Investors are feeling optimistic about the eco...         0.000000\n",
        "2  There is a lot of uncertainty in the market ri...         0.285714\n",
        "3   The company's earnings report was disappointing.        -0.600000\n",
        "4  The Federal Reserve just announced an interest...         0.000000\n",
        "5   Many experts are predicting a market crash soon.         0.500000\n",
        "6   The stock marke\n"
      ]
    }
  ]
}